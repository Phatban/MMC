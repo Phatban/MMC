{
 "cells": [
  {
   "cell_type": "markdown",
   "metadata": {},
   "source": [
    "#### **Exercise 1:**"
   ]
  },
  {
   "cell_type": "markdown",
   "metadata": {},
   "source": [
    "##### *Question 1:*\n",
    "Viết chương trình nhập vào một số thực. Đơn vị tính cho số này là centimet (cm). Hãy in ra số tương đương tính bằng foot (số thực, có 2 số lẻ thập phân) và inch (số thực, có 2 số lẻ thập phân). Với 1 inch = 2.54 cm và 1 foot = 12 inches."
   ]
  },
  {
   "cell_type": "code",
   "execution_count": 1,
   "metadata": {},
   "outputs": [
    {
     "name": "stdout",
     "output_type": "stream",
     "text": [
      "Length is 5.41 feet.\n",
      "Length is 64.96 inches.\n"
     ]
    }
   ],
   "source": [
    "length_cm = float(input())  #length = 165\n",
    "length_inch = round(length_cm/2.54, 2)\n",
    "length_foot = round(length_inch/12, 2)\n",
    "print(f'Length is {length_foot} feet.')\n",
    "print(f'Length is {length_inch} inches.')"
   ]
  },
  {
   "cell_type": "markdown",
   "metadata": {},
   "source": [
    "##### *Question 2:*\n",
    "Viết chương trình nhập vào số giây từ 0 tới 68399, đổi số giây này thành dạng [giờ:phút:giây], mỗi thành phần là một số nguyên có 2 chữ số.\n",
    "Ví dụ: 02:11:05"
   ]
  },
  {
   "cell_type": "code",
   "execution_count": 2,
   "metadata": {},
   "outputs": [
    {
     "name": "stdout",
     "output_type": "stream",
     "text": [
      "07:03:04\n"
     ]
    }
   ],
   "source": [
    "n_seconds = int(input('Nhập vào số giây (từ 0 tới 68399):')) #n_seconds = 25384\n",
    "\n",
    "n_hours = n_seconds // 3600\n",
    "n_seconds = n_seconds % 3600\n",
    "n_minutes = n_seconds // 60\n",
    "n_seconds = n_seconds % 60\n",
    "\n",
    "hh = f'{n_hours:02}'\n",
    "mm = f'{n_minutes:02}'\n",
    "ss = f'{n_seconds:02}'\n",
    "print(f'{hh}:{mm}:{ss}')"
   ]
  },
  {
   "cell_type": "markdown",
   "metadata": {},
   "source": [
    "##### *Question 3:*\n",
    "Viết chương trình nhập vào 4 số nguyên. Hiển thị ra số lớn nhất và nhỏ nhất."
   ]
  },
  {
   "cell_type": "code",
   "execution_count": 3,
   "metadata": {},
   "outputs": [
    {
     "name": "stdout",
     "output_type": "stream",
     "text": [
      "Số lớn nhất là: 239\n",
      "Số nhỏ nhất là: 6\n"
     ]
    }
   ],
   "source": [
    "numbers = [int(x) for x in input('Nhập 4 số nguyên (cách nhau bởi khoảng trắng): ').split()] #input = 6 38 239 50\n",
    "max_num = max(numbers)\n",
    "min_num = min(numbers)\n",
    "print(f'Số lớn nhất là: {max_num}')\n",
    "print(f'Số nhỏ nhất là: {min_num}')"
   ]
  },
  {
   "cell_type": "markdown",
   "metadata": {},
   "source": [
    "##### *Question 4:*\n",
    "Nhập vào hai số tự nhiên a và b. Tính hiệu của hai số đó.\n",
    "\n",
    "Nếu hiệu số lớn hơn 0 thì in ra dòng chữ [Số thứ nhất lớn hơn số thứ hai].\n",
    "\n",
    "Nếu hiệu số nhỏ hơn 0 thì in ra dòng chữ [Số thứ nhất nhỏ hơn số thứ hai]."
   ]
  },
  {
   "cell_type": "code",
   "execution_count": 5,
   "metadata": {},
   "outputs": [
    {
     "name": "stdout",
     "output_type": "stream",
     "text": [
      "Số thứ nhất nhỏ hơn số thứ hai.\n"
     ]
    }
   ],
   "source": [
    "a = int(input('Nhập số tự nhiên thứ nhất:')) # a = 40, b = 57\n",
    "b = int(input('Nhập số tự nhiên thứ hai:'))\n",
    "diff = a - b\n",
    "\n",
    "if diff > 0:\n",
    "    print('Số thứ nhất lớn hơn số thứ hai.')\n",
    "if diff < 0:\n",
    "    print('Số thứ nhất nhỏ hơn số thứ hai.')"
   ]
  },
  {
   "cell_type": "markdown",
   "metadata": {},
   "source": [
    "##### *Question 5:*\n",
    "Nhập vào 2 số tự nhiên a và b. Kiểm tra xem a có chia hết cho b không."
   ]
  },
  {
   "cell_type": "code",
   "execution_count": 6,
   "metadata": {},
   "outputs": [
    {
     "name": "stdout",
     "output_type": "stream",
     "text": [
      "a không chia hết cho b.\n"
     ]
    }
   ],
   "source": [
    "a = int(input('Nhập số tự nhiên a:')) # a = 100, b = 7\n",
    "b = int(input('Nhập số tự nhiên b:'))\n",
    "r = a % b\n",
    "\n",
    "if r == 0:\n",
    "    print('a chia chết cho b.')\n",
    "else:\n",
    "    print('a không chia hết cho b.')"
   ]
  },
  {
   "cell_type": "markdown",
   "metadata": {},
   "source": [
    "##### *Question 6:*\n",
    "Xếp loại sinh viên theo các quy luật dưới đây:\n",
    "* Nếu điểm >= 9.0 - Loại xuất sắc\n",
    "* Nếu 8.0<= điểm < 9.0 - Loại giỏi\n",
    "* Nếu 7.0<= điểm < 8.0 - Loại khá\n",
    "* Nếu 6.0 <= điểm < 7.0 - Loại trung bình khá\n",
    "* Nếu 5.0 <= điểm < 6.0 - Loại trung bình\n",
    "* Nếu điểm < 5.0 - Loại kém\n",
    "Với điểm = ( (điểm toán)*2 + điểm lý + điểm hóa )/4\n",
    "\n",
    "Viết Chương trình:\n",
    "1. Nhập vào điểm 3 môn học\n",
    "2. Tính điểm trung bình\n",
    "3. Xác định học lực của học sinh dựa trên điểm trung bình\n",
    "4. Hiển thị học lực của học sinh"
   ]
  },
  {
   "cell_type": "code",
   "execution_count": 7,
   "metadata": {},
   "outputs": [
    {
     "name": "stdout",
     "output_type": "stream",
     "text": [
      "Học sinh đạt loại: khá\n"
     ]
    }
   ],
   "source": [
    "#1. Nhập vào điểm 3 môn học: (T: 7.5, L: 6.3, H: 9.8)\n",
    "T = float(input('Nhập vào điểm Toán: '))\n",
    "L = float(input('Nhập vào điểm Lý: '))\n",
    "H = float(input('Nhập vào điểm Hóa: '))\n",
    "\n",
    "#2. Tính điểm trung bình:\n",
    "TB = (T*2 + L + H)/4\n",
    "\n",
    "#3. Xác định học lực của học sinh dựa trên điểm trung bình:\n",
    "if TB >= 9.0:\n",
    "    HL = 'xuất sắc'\n",
    "elif 8.0 <= TB and TB < 9.0:\n",
    "    HL = 'giỏi'\n",
    "elif 7.0 <= TB and TB < 8.0:\n",
    "    HL = 'khá'\n",
    "elif 6.0 <= TB and TB < 7.0:\n",
    "    HL = 'trung bình khá'\n",
    "elif 5.0 <= TB and TB < 6.0:\n",
    "    HL = 'trung bình'\n",
    "else:\n",
    "    HL = 'kém'\n",
    "\n",
    "#4. Hiển thị học lực của học sinh\n",
    "print(f'Học sinh đạt loại: {HL}')"
   ]
  },
  {
   "cell_type": "markdown",
   "metadata": {},
   "source": [
    "#### **Exercise 2:**"
   ]
  },
  {
   "cell_type": "markdown",
   "metadata": {},
   "source": [
    "##### *Question 1:*\n",
    "Hãy viết chương trình tính tổng các chữ số của một số nguyên bất kỳ."
   ]
  },
  {
   "cell_type": "code",
   "execution_count": 8,
   "metadata": {},
   "outputs": [
    {
     "data": {
      "text/plain": [
       "25"
      ]
     },
     "execution_count": 8,
     "metadata": {},
     "output_type": "execute_result"
    }
   ],
   "source": [
    "def sum_of_digits(n):\n",
    "    sum = 0\n",
    "    while n > 0:\n",
    "        sum += (n % 10)\n",
    "        n //= 10\n",
    "    return sum\n",
    "sum_of_digits(33748)"
   ]
  },
  {
   "cell_type": "markdown",
   "metadata": {},
   "source": [
    "##### *Question 2:*\n",
    "Viết chương trình phân tích một số nguyên thành các thừa số nguyên tố.\n",
    "Ví dụ: Số 28 được phân tích thành 2 x 2 x 7"
   ]
  },
  {
   "cell_type": "code",
   "execution_count": 9,
   "metadata": {},
   "outputs": [
    {
     "name": "stdout",
     "output_type": "stream",
     "text": [
      "2x2x2x3x5x7"
     ]
    }
   ],
   "source": [
    "def prime_factorization(n):\n",
    "    factors = []\n",
    "    divisor = 2\n",
    "    while n > 1:\n",
    "        while n % divisor == 0:\n",
    "            factors.append(divisor)\n",
    "            n //= divisor\n",
    "        divisor += 1\n",
    "        \n",
    "    length = len(factors)\n",
    "    for i in range(length):\n",
    "        print(factors[i], end = '')\n",
    "        if i < length - 1:\n",
    "            print('x', end = '')\n",
    "prime_factorization(840)"
   ]
  },
  {
   "cell_type": "markdown",
   "metadata": {},
   "source": [
    "##### *Question 3:*\n",
    "Viết chương trình liệt kê tất cả các số nguyên tố nhỏ hơn n cho trước."
   ]
  },
  {
   "cell_type": "code",
   "execution_count": 10,
   "metadata": {},
   "outputs": [
    {
     "name": "stdout",
     "output_type": "stream",
     "text": [
      "2\n",
      "3\n",
      "5\n",
      "7\n",
      "11\n",
      "13\n",
      "17\n",
      "19\n",
      "23\n",
      "29\n"
     ]
    }
   ],
   "source": [
    "import math\n",
    "def is_prime(number):\n",
    "    if number < 2:\n",
    "        return False\n",
    "    end = int(math.sqrt(number)) + 1\n",
    "    for i in range(2, end):\n",
    "        if number % i == 0:\n",
    "            return False\n",
    "    return True\n",
    "n = 30\n",
    "for i in range(n):\n",
    "    if is_prime(i):\n",
    "        print(i)"
   ]
  },
  {
   "cell_type": "markdown",
   "metadata": {},
   "source": [
    "##### *Question 4:*\n",
    "Viết chương trình liệt kê n số nguyên tố đầu tiên."
   ]
  },
  {
   "cell_type": "code",
   "execution_count": 11,
   "metadata": {},
   "outputs": [
    {
     "name": "stdout",
     "output_type": "stream",
     "text": [
      "2\n",
      "3\n",
      "5\n",
      "7\n",
      "11\n",
      "13\n",
      "17\n",
      "19\n",
      "23\n",
      "29\n",
      "31\n",
      "37\n",
      "41\n",
      "43\n",
      "47\n"
     ]
    }
   ],
   "source": [
    "def Question4(n):\n",
    "    i = 2\n",
    "    while n > 0:\n",
    "        if is_prime(i):\n",
    "            print(i)\n",
    "            n -= 1\n",
    "        i += 1\n",
    "Question4(15)"
   ]
  },
  {
   "cell_type": "markdown",
   "metadata": {},
   "source": [
    "##### *Question 5:*\n",
    "Viết chương trình tìm ước số chung lớn nhất, bội số chung nhỏ nhất của hai số tự nhiên a và b.\n"
   ]
  },
  {
   "cell_type": "code",
   "execution_count": 12,
   "metadata": {},
   "outputs": [
    {
     "name": "stdout",
     "output_type": "stream",
     "text": [
      "12\n",
      "200\n"
     ]
    }
   ],
   "source": [
    "def GCD(a, b):\n",
    "    while b != 0:\n",
    "        a, b = b, a % b\n",
    "    return a\n",
    "def LCM(a, b):\n",
    "    return int((a * b)/GCD(a, b))\n",
    "print(GCD(36, 60))\n",
    "print(LCM(25, 40))\n",
    "\n",
    "    "
   ]
  },
  {
   "cell_type": "markdown",
   "metadata": {},
   "source": [
    "##### *Question 6:*\n",
    "Dãy số Fibonacci được định nghĩa như sau:\n",
    "\n",
    "F0 =1, F1 = 1; Fn = Fn-1 + Fn-2 với n>=2.\n",
    "\n",
    "Hãy viết chương trình tìm số Fibonacci thứ n.\n"
   ]
  },
  {
   "cell_type": "code",
   "execution_count": 13,
   "metadata": {},
   "outputs": [
    {
     "data": {
      "text/plain": [
       "89"
      ]
     },
     "execution_count": 13,
     "metadata": {},
     "output_type": "execute_result"
    }
   ],
   "source": [
    "def Fibonacci(n):\n",
    "    if n == 0 or n == 1:\n",
    "        return 1\n",
    "    return Fibonacci(n - 2) + Fibonacci(n - 1)\n",
    "Fibonacci(10)"
   ]
  },
  {
   "cell_type": "markdown",
   "metadata": {},
   "source": [
    "##### *Question 7:*\n",
    "Nhập một số tự nhiên n.\n",
    "Hãy liệt kê các số Fibonaci nhỏ hơn n là số nguyên tố\n"
   ]
  },
  {
   "cell_type": "code",
   "execution_count": 14,
   "metadata": {},
   "outputs": [
    {
     "name": "stdout",
     "output_type": "stream",
     "text": [
      "1\n",
      "1\n",
      "2\n",
      "3\n",
      "5\n",
      "8\n",
      "13\n",
      "21\n",
      "34\n",
      "55\n",
      "89\n"
     ]
    }
   ],
   "source": [
    "def Question7(n):\n",
    "    i = 0\n",
    "    while Fibonacci(i) < n:\n",
    "        print(Fibonacci(i))\n",
    "        i += 1\n",
    "Question7(100)"
   ]
  },
  {
   "cell_type": "markdown",
   "metadata": {},
   "source": [
    "##### *Question 8:*\n",
    "Viết chương trình nhập một số nguyên dương n và thực hiện các chức năng sau:\n",
    "a) Tính tổng các chữ số của n.\n",
    "b) Phân tích n thành các thừa số nguyên tố.\n"
   ]
  },
  {
   "cell_type": "code",
   "execution_count": 16,
   "metadata": {},
   "outputs": [
    {
     "name": "stdout",
     "output_type": "stream",
     "text": [
      "11\n",
      "2x5x5x13"
     ]
    }
   ],
   "source": [
    "n = int(input('Nhập số nguyên dương n: ')) #n = 650\n",
    "#a) Tính tổng các chữ số của n:\n",
    "print(sum_of_digits(n))\n",
    "#b) Phân tích n thành các thừa sóo nguyên tố:\n",
    "prime_factorization(n)"
   ]
  },
  {
   "cell_type": "markdown",
   "metadata": {},
   "source": [
    "##### *Question 9:*\n",
    "Viết chương trình nhập một số nguyên dương n và thực hiện các chức năng sau:\n",
    "a) Liệt kê các ước số của n. Có bao nhiêu ước số.\n",
    "b) Liệt kê các ước số là nguyên tố của n.\n"
   ]
  },
  {
   "cell_type": "code",
   "execution_count": 18,
   "metadata": {},
   "outputs": [
    {
     "name": "stdout",
     "output_type": "stream",
     "text": [
      "Số 120 có 16 ước số là: [1, 2, 3, 4, 5, 6, 8, 10, 12, 15, 20, 24, 30, 40, 60, 120]. \n",
      "Số 120 có 3 ước số nguyên tố là: [2, 3, 5]. \n"
     ]
    }
   ],
   "source": [
    "n = int(input('Nhập số nguyên dương n: ')) #n = 120\n",
    "divisors, prime_divisors = [], []\n",
    "for i in range(1, n + 1):\n",
    "    if n % i == 0:\n",
    "        divisors.append(i)\n",
    "        if is_prime(i):\n",
    "            prime_divisors.append(i)\n",
    "#a) \n",
    "print(f'Số {n} có {len(divisors)} ước số là: {divisors}. ')\n",
    "#b) \n",
    "print(f'Số {n} có {len(prime_divisors)} ước số nguyên tố là: {prime_divisors}. ')\n"
   ]
  },
  {
   "cell_type": "markdown",
   "metadata": {},
   "source": [
    "##### *Question 10:*\n",
    "Viết chương trình thực hiện chuẩn hoá một xâu ký tự nhập từ bàn phím (loại bỏ các dấu cách thừa, chuyển ký tự đầu mỗi từ thành chữ hoa, các ký tự khác thành chữ thường)\n"
   ]
  },
  {
   "cell_type": "code",
   "execution_count": 19,
   "metadata": {},
   "outputs": [
    {
     "name": "stdout",
     "output_type": "stream",
     "text": [
      "Xâu ký tự đã chuẩn hoá: Toi Yeu Toan Hoc 345\n"
     ]
    }
   ],
   "source": [
    "def standardize(s):\n",
    "  # Loại bỏ các dấu cách thừa\n",
    "  s = s.strip()\n",
    "\n",
    "  # Chia xâu thành các từ\n",
    "  words = s.split()\n",
    "\n",
    "  # Chuẩn hoá từng từ\n",
    "  words = [word.capitalize() for word in words]\n",
    "\n",
    "  # Ghép các từ lại thành xâu\n",
    "  standardized_string = \" \".join(words)\n",
    "\n",
    "  return standardized_string\n",
    "\n",
    "s = input('Nhập xâu ký tự: ') #s = '  toi yeu  TOan hoC 345     '\n",
    "print(f'Xâu ký tự đã chuẩn hoá: {standardize(s)}')"
   ]
  },
  {
   "cell_type": "markdown",
   "metadata": {},
   "source": [
    "##### *Question 11:*\n",
    "Viết chương trình thực hiện nhập một xâu ký tự\n",
    "\n",
    "a) Tìm từ dài nhất trong xâu đó.\n",
    "\n",
    "b) Từ đó xuất hiện ở vị trí nào?\n",
    "\n",
    "(Chú ý. nếu có nhiều từ có độ dài giống nhau thì chọn từ đầu tiên tìm thấy).\n"
   ]
  },
  {
   "cell_type": "code",
   "execution_count": 20,
   "metadata": {},
   "outputs": [
    {
     "name": "stdout",
     "output_type": "stream",
     "text": [
      "Từ dài nhất là: Nguyen.\n",
      "Vị trí của từ dài nhất: 11.\n"
     ]
    }
   ],
   "source": [
    "def find_longest_word(s):\n",
    "  words = s.split()\n",
    "  longest_word = \"\"\n",
    "  for word in words:\n",
    "    if len(word) > len(longest_word):\n",
    "      longest_word = word\n",
    "  return longest_word\n",
    "\n",
    "s = input('Nhập xâu ký tự: ') #s = 'Toi ten la Nguyen Tan Phat'\n",
    "longest_word = find_longest_word(s)\n",
    "print(f'Từ dài nhất là: {longest_word}.')\n",
    "print(f'Vị trí của từ dài nhất: {s.find(longest_word)}.')"
   ]
  },
  {
   "cell_type": "markdown",
   "metadata": {},
   "source": [
    "#### **Exercise 3:**"
   ]
  },
  {
   "cell_type": "markdown",
   "metadata": {},
   "source": [
    "##### *Question 1:*\n",
    "Sử dụng for, while, do while để cho ra kết quả a, b, c, d như ảnh"
   ]
  },
  {
   "cell_type": "code",
   "execution_count": 21,
   "metadata": {},
   "outputs": [
    {
     "name": "stdout",
     "output_type": "stream",
     "text": [
      "#\n",
      "##\n",
      "###\n",
      "####\n",
      "#####\n",
      "######\n",
      "#######\n",
      "########\n"
     ]
    }
   ],
   "source": [
    "#a)\n",
    "for i in range(1, 9):\n",
    "    for j in range(i):\n",
    "        print('#', end = '')\n",
    "    print()"
   ]
  },
  {
   "cell_type": "code",
   "execution_count": 22,
   "metadata": {},
   "outputs": [
    {
     "name": "stdout",
     "output_type": "stream",
     "text": [
      "########\n",
      "#######\n",
      "######\n",
      "#####\n",
      "####\n",
      "###\n",
      "##\n",
      "#\n"
     ]
    }
   ],
   "source": [
    "#b)\n",
    "for i in range(8, 0, -1):\n",
    "    for j in range(i):\n",
    "        print('#', end = '')\n",
    "    print()"
   ]
  },
  {
   "cell_type": "code",
   "execution_count": 23,
   "metadata": {},
   "outputs": [
    {
     "name": "stdout",
     "output_type": "stream",
     "text": [
      "########\n",
      "#######\n",
      "######\n",
      "#####\n",
      "####\n",
      "###\n",
      "##\n",
      "#\n"
     ]
    }
   ],
   "source": [
    "#c)\n",
    "for i in range(8):\n",
    "    for j in range(8 - i):\n",
    "        print('#', end = '')\n",
    "    print()"
   ]
  },
  {
   "cell_type": "code",
   "execution_count": 24,
   "metadata": {},
   "outputs": [
    {
     "name": "stdout",
     "output_type": "stream",
     "text": [
      "       #\n",
      "      ##\n",
      "     ###\n",
      "    ####\n",
      "   #####\n",
      "  ######\n",
      " #######\n",
      "########\n"
     ]
    }
   ],
   "source": [
    "#d)\n",
    "for i in range(1, 9):\n",
    "    for j in range(8 - i):\n",
    "        print(' ', end = '')\n",
    "    for j in range(i):\n",
    "        print('#', end = '')\n",
    "    print()"
   ]
  },
  {
   "cell_type": "markdown",
   "metadata": {},
   "source": [
    "##### *Question 2:*\n",
    "Viết chương trình tính n! với n là số tự nhiên không âm nhập vào từ bàn phím. Trong đó: 0! = 1 n! = 1.2.3...n"
   ]
  },
  {
   "cell_type": "code",
   "execution_count": 25,
   "metadata": {},
   "outputs": [
    {
     "data": {
      "text/plain": [
       "3628800"
      ]
     },
     "execution_count": 25,
     "metadata": {},
     "output_type": "execute_result"
    }
   ],
   "source": [
    "def factorial(n):\n",
    "    if n == 0 or n == 1:\n",
    "        return n\n",
    "    return factorial(n - 1) * n\n",
    "factorial(10)"
   ]
  }
 ],
 "metadata": {
  "kernelspec": {
   "display_name": "aio",
   "language": "python",
   "name": "python3"
  },
  "language_info": {
   "codemirror_mode": {
    "name": "ipython",
    "version": 3
   },
   "file_extension": ".py",
   "mimetype": "text/x-python",
   "name": "python",
   "nbconvert_exporter": "python",
   "pygments_lexer": "ipython3",
   "version": "3.10.13"
  }
 },
 "nbformat": 4,
 "nbformat_minor": 2
}
