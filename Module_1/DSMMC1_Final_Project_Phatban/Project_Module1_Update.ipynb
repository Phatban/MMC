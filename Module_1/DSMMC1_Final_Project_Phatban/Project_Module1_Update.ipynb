{
 "cells": [
  {
   "cell_type": "markdown",
   "metadata": {},
   "source": [
    "# **Đề bài**\n",
    "Viết một chương trình để tính toán điểm thi cho nhiều lớp với sĩ số hàng nghìn học sinh. Mục đích của chương trình giúp giảm thời gian chấm điểm. Áp dụng các functions (hàm) khác nhau trong Python để viết chương trình với các tác vụ sau:\n",
    "* Mở các tập tin văn bản bên ngoài được yêu cầu với exception-handling\n",
    "* Quét từng dòng của câu trả lời bài thi để tìm dữ liệu hợp lệ và cung cấp báo cáo tương ứng\n",
    "* Chấm điểm từng bài thi dựa trên tiêu chí đánh giá (rubric) được cung cấp và báo cáo\n",
    "* Tạo tập tin kết quả được đặt tên thích hợp"
   ]
  },
  {
   "cell_type": "code",
   "execution_count": 2,
   "metadata": {},
   "outputs": [],
   "source": [
    "import re\n",
    "import numpy as np"
   ]
  },
  {
   "cell_type": "markdown",
   "metadata": {},
   "source": [
    "## *Task 1*\n",
    "1.1. Tạo một chương trình Python mới có tên “lastname_firstname_grade_the_exams.py.”\n",
    "\n",
    "1.2. Viết hàm cho phép người dùng nhập tên của một tệp và truy cập đọc.\n",
    "\n",
    "1.3. Nếu tệp tồn tại, bạn có thể in ra một thông báo xác nhận. Nếu tệp không tồn tại, hiển thị không thể tìm thấy tệp và yêu cầu nhập lại.\n",
    "\n",
    "1.4. Sử dụng try/except để thực hiện việc này (đừng chỉ sử dụng một loạt câu lệnh “if”):"
   ]
  },
  {
   "cell_type": "code",
   "execution_count": 3,
   "metadata": {},
   "outputs": [],
   "source": [
    "def read_file():\n",
    "    while True:\n",
    "        try:\n",
    "            global file_name, file\n",
    "            file_name = input('Enter a class file to grade (i.e. class1 for class1.txt):')\n",
    "            file_path = './Data Files/Input/' + file_name + '.txt'\n",
    "            with open(file_path, 'r') as file:\n",
    "                print('Successfully opened', file_name + '.txt')\n",
    "                break\n",
    "        except FileNotFoundError:\n",
    "            print('File cannot be found.')"
   ]
  },
  {
   "cell_type": "markdown",
   "metadata": {},
   "source": [
    "## *Task 2*\n",
    "Tiếp theo, bạn sẽ cần phân tích dữ liệu có trong tệp bạn vừa mở để đảm bảo rằng nó ở đúng định dạng. Mỗi tệp dữ liệu chứa một loạt câu trả lời của học sinh ở định dạng sau:\n",
    "```\n",
    "N12345678,B,A,D,D,C,B,D,A,C,C,D,B,A,B,A,C,B,D,A,C,A,A,B,D,D\n",
    "```\n",
    "hoặc\n",
    "```\n",
    "N12345678,B,A,D,D,C,B,D,A,C,C,D,B,A,B,A,C,B,D,A,C,A,A,B,D,D,A,B,C,D,E\n",
    "```\n",
    "Nhiệm vụ của bạn cho phần này của chương trình là thực hiện như sau:\n",
    "\n",
    "2.1. Báo cáo tổng số dòng dữ liệu được lưu trữ trong tệp.\n",
    "\n",
    "2.2. Báo cáo tổng số dòng dữ liệu không hợp lệ trong tệp.\n",
    "\n",
    "*Một dòng hợp lệ chứa danh sách 26 giá trị được phân tách bằng dấu phẩy\n",
    "N# cho một học sinh là mục đầu tiên trên dòng. Nó phải chứa ký tự “N” theo sau là 8 ký tự số.*\n",
    "\n",
    "2.3. Nếu một dòng dữ liệu không hợp lệ, bạn nên báo cáo cho người dùng bằng cách in ra một thông báo lỗi.\n",
    "\n",
    "**Gợi ý:** Sử dụng phương pháp split để tách dữ liệu ra khỏi tệp."
   ]
  },
  {
   "cell_type": "code",
   "execution_count": 4,
   "metadata": {},
   "outputs": [],
   "source": [
    "def report_validity(file):\n",
    "    print('**** ANALYZING ****')\n",
    "    list_of_lines = file.read().splitlines() # Get the data of file and split it into a list of line. \n",
    "    global n, valid_data\n",
    "    n = len(list_of_lines)  # The number of students in class.\n",
    "    valid_data = []        # List of valid lines that can be processed.\n",
    "    for line in list_of_lines:\n",
    "        student = line.split(',')\n",
    "        try:\n",
    "            # Check if data includes ID and 25 answers.\n",
    "            if len(student) != 26:  \n",
    "                raise ValueError('Invalid line of data: does not contain exactly 26 values\\n')\n",
    "            \n",
    "            # Check if ID starts with 'N' and followed by 8 digits.\n",
    "            student_ID = student[0]\n",
    "            if bool(re.match(r'^N\\d{8}$', student_ID)) == False:    \n",
    "                raise NameError('Invalid line of data: N# is invalid\\n')\n",
    "            \n",
    "        except ValueError as VE:\n",
    "            print(VE, student)\n",
    "        except NameError as NE:\n",
    "            print(NE, student)\n",
    "        else:\n",
    "            valid_data.append(student) # Add a student data into list to be graded.\n",
    "            \n",
    "    if len(valid_data) == n:\n",
    "        print('No errors found!')\n",
    "    print('**** REPORT ****')\n",
    "    print(f'Total valid lines of data: {len(valid_data)}')\n",
    "    print(f'Total invalid lines of data: {n - len(valid_data)}')"
   ]
  },
  {
   "cell_type": "markdown",
   "metadata": {},
   "source": [
    "## *Task 3*\n",
    "Tiếp theo, bạn sẽ viết chương trình để chấm điểm các bài thi cho một phần nhất định. Kỳ thi gồm 25 câu hỏi, trắc nghiệm. Đây là một chuỗi đại diện cho các câu trả lời:\n",
    "```\n",
    "answer_key = \"B,A,D,D,C,B,D,A,C,C,D,B,A,B,A,C,B,D,A,C,A,A,B,D,D\"\n",
    "```\n",
    "Chương trình sẽ sử dụng những câu trả lời này để tính điểm cho mỗi dòng dữ liệu hợp lệ. Điểm có thể được tính như sau:\n",
    "\n",
    "* +4 điểm cho mỗi câu trả lời đúng\n",
    "* 0 điểm cho mỗi câu trả lời bị bỏ qua\n",
    "* -1 điểm cho mỗi câu trả lời sai\n",
    "Chúng ta cũng cần thống kê các yêu cầu sau:\n",
    "* Đếm số lượng học sinh đạt điểm cao (>80).\n",
    "\n",
    "* Điểm trung bình.\n",
    "\n",
    "* Điểm cao nhất.\n",
    "\n",
    "* Điểm thấp nhất.\n",
    "\n",
    "* Miền giá trị của điểm (cao nhất trừ thấp nhất).\n",
    "\n",
    "* Giá trị trung vị (Sắp xếp các điểm theo thứ tự tăng dần. Nếu # học sinh là số lẻ, bạn có thể lấy giá trị nằm ở giữa của tất cả các điểm (tức là [0, 50, 100] — trung vị là 50). Nếu # học sinh là chẵn bạn có thể tính giá trị trung vị bằng cách lấy giá trị trung bình của hai giá trị giữa (tức là [0, 50, 60, 100] — giá trị trung vị là 55)).\n",
    "\n",
    "* Trả về các câu hỏi bị học sinh bỏ qua nhiều nhất theo thứ tự: số thứ tự câu hỏi - số lượng học sinh bỏ qua -  tỉ lệ bị bỏ qua (nếu có cùng số lượng cho nhiều câu hỏi bị bỏ thì phải liệt kê ra đầy đủ).\n",
    "\n",
    "* Trả về các câu hỏi bị học sinh sai qua nhiều nhất theo thứ tự: số thứ tự câu hỏi - số lượng học sinh trả lời sai - tỉ lệ bị sai (nếu có cùng số lượng cho nhiều câu hỏi bị sai thì phải liệt kê ra đầy đủ).\n",
    "\n",
    "*Lưu ý: các giá trị số thực làm tròn 3 chữ số thập phân*"
   ]
  },
  {
   "cell_type": "code",
   "execution_count": 5,
   "metadata": {},
   "outputs": [],
   "source": [
    "def grade():\n",
    "    global skipped, incorrectly_answered, results\n",
    "    skipped, incorrectly_answered = [0]*25, [0]*25 # To count the number of students that skipping or answering incorrectly each question.\n",
    "    results = [[],[]] # Contains list of IDs and list of scores.\n",
    "    answer_keys = \"B,A,D,D,C,B,D,A,C,C,D,B,A,B,A,C,B,D,A,C,A,A,B,D,D\".split(',')\n",
    "    for student in valid_data:\n",
    "        answers = student[1:] # Student's answers begin from index 1.\n",
    "        id = student[0]\n",
    "        score = 0\n",
    "        for i in range(25):\n",
    "            # No answer -> +0.\n",
    "            if answers[i] == '':\n",
    "                skipped[i] += 1\n",
    "            # Correct answer -> +4.\n",
    "            elif answers[i] == answer_keys[i]:\n",
    "                score += 4\n",
    "            # Incorrect answer -> -1.\n",
    "            else:\n",
    "                score -= 1\n",
    "                incorrectly_answered[i] += 1\n",
    "        results[0].append(id)\n",
    "        results[1].append(score)"
   ]
  },
  {
   "cell_type": "code",
   "execution_count": 6,
   "metadata": {},
   "outputs": [],
   "source": [
    "def report_results():\n",
    "    score = np.array(results[1])\n",
    "    print(f'Total student of high scores: {np.count_nonzero(score > 80)}')\n",
    "    print(f'Mean (average) score: {round(np.mean(score), 3)}')\n",
    "    print(f'Highest score: {np.max(score)}')\n",
    "    print(f'Lowest score: {np.min(score)}')\n",
    "    print(f'Range of scores: {np.max(score) - np.min(score)}')\n",
    "    print(f'Median score: {round(np.median(score), 3)}')\n",
    "\n",
    "    n_1 = max(skipped)\n",
    "    n_2 = max(incorrectly_answered)\n",
    "\n",
    "    print('Questions that most people skip:')\n",
    "    for i in range(25):\n",
    "        if skipped[i] == n_1:\n",
    "            print(f'{i + 1} - {n_1} - {round(n_1/n, 3)}')\n",
    "            \n",
    "    print('Questions that most people answer incorrectly:')\n",
    "    for i in range(25):\n",
    "        if incorrectly_answered[i] == n_2:\n",
    "            print(f'{i + 1} - {n_2} - {round(n_2/n, 3)}')"
   ]
  },
  {
   "cell_type": "markdown",
   "metadata": {},
   "source": [
    "## *Task 4:*\n",
    "Cuối cùng, yêu cầu chương trình là tạo một tệp “kết quả” chứa các kết quả chi tiết cho từng học sinh trong lớp. Mỗi dòng của tệp này phải chứa số ID của học sinh, dấu phẩy và sau đó là điểm của họ. Bạn nên đặt tên tệp này dựa trên tên tệp gốc được cung cấp — ví dụ: nếu người dùng chọn “class1.txt”, bạn nên lưu trữ kết quả trong tệp có tên “class1_grades.txt”."
   ]
  },
  {
   "cell_type": "code",
   "execution_count": 1,
   "metadata": {},
   "outputs": [],
   "source": [
    "def write_file():\n",
    "    content = ''\n",
    "    for id, score in zip(results[0], results[1]):\n",
    "        content += (id + ',' + str(score))\n",
    "        if id != results[0][-1]:\n",
    "            content += '\\n'\n",
    "\n",
    "    output_path = './Data Files/Output/' + file_name + '_grade.txt'\n",
    "    with open(output_path, 'w') as fw:\n",
    "        fw.write(content)"
   ]
  },
  {
   "cell_type": "markdown",
   "metadata": {},
   "source": [
    "# **Phần chạy chương trình:**"
   ]
  },
  {
   "cell_type": "code",
   "execution_count": 11,
   "metadata": {},
   "outputs": [],
   "source": [
    "def main():\n",
    "    read_file()\n",
    "    with open(file.name, 'r') as f:\n",
    "        report_validity(f)\n",
    "        grade()\n",
    "        report_results()\n",
    "        write_file()"
   ]
  },
  {
   "cell_type": "code",
   "execution_count": 18,
   "metadata": {},
   "outputs": [
    {
     "name": "stdout",
     "output_type": "stream",
     "text": [
      "Successfully opened class8.txt\n",
      "**** ANALYZING ****\n",
      "No errors found!\n",
      "**** REPORT ****\n",
      "Total valid lines of data: 49\n",
      "Total invalid lines of data: 0\n",
      "Total student of high scores: 17\n",
      "Mean (average) score: 76.673\n",
      "Highest score: 92\n",
      "Lowest score: 59\n",
      "Range of scores: 33\n",
      "Median score: 77.0\n",
      "Questions that most people skip:\n",
      "4 - 9 - 0.184\n",
      "Questions that most people answer incorrectly:\n",
      "4 - 9 - 0.184\n",
      "15 - 9 - 0.184\n"
     ]
    }
   ],
   "source": [
    "main()"
   ]
  }
 ],
 "metadata": {
  "kernelspec": {
   "display_name": "aio",
   "language": "python",
   "name": "python3"
  },
  "language_info": {
   "codemirror_mode": {
    "name": "ipython",
    "version": 3
   },
   "file_extension": ".py",
   "mimetype": "text/x-python",
   "name": "python",
   "nbconvert_exporter": "python",
   "pygments_lexer": "ipython3",
   "version": "3.10.13"
  }
 },
 "nbformat": 4,
 "nbformat_minor": 2
}
