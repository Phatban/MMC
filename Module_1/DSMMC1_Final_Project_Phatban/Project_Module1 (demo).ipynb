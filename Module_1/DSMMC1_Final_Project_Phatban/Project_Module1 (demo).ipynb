{
 "cells": [
  {
   "cell_type": "code",
   "execution_count": 1,
   "metadata": {},
   "outputs": [],
   "source": [
    "skip, incorrect = [0]*25, [0]*25\n",
    "class_results = [[],[]]"
   ]
  },
  {
   "cell_type": "code",
   "execution_count": 2,
   "metadata": {},
   "outputs": [],
   "source": [
    "import re\n",
    "# Check if an ID is valid (#N...)\n",
    "def is_valid(ID):\n",
    "  pattern = r'^N\\d{8}$'\n",
    "  return bool(re.match(pattern, ID))"
   ]
  },
  {
   "cell_type": "code",
   "execution_count": 3,
   "metadata": {},
   "outputs": [],
   "source": [
    "# Given the data of a student, grade and update skip, incorrect list\n",
    "def grade_student(data, skip, incorrect, class_results):\n",
    "    choices = data[1:]\n",
    "    score = 0\n",
    "    answer_key = \"B,A,D,D,C,B,D,A,C,C,D,B,A,B,A,C,B,D,A,C,A,A,B,D,D\"\n",
    "    answers = answer_key.split(',')\n",
    "\n",
    "    for i in range(25):\n",
    "        # No answer\n",
    "        if choices[i] == '':\n",
    "            skip[i] += 1\n",
    "        # Correct answer\n",
    "        elif choices[i] == answers[i]:\n",
    "            score += 4\n",
    "        # Incorrect answer\n",
    "        else:\n",
    "            score -= 1\n",
    "            incorrect[i] += 1\n",
    "    class_results[0].append(data[0])\n",
    "    class_results[1].append(score)"
   ]
  },
  {
   "cell_type": "code",
   "execution_count": 4,
   "metadata": {},
   "outputs": [],
   "source": [
    "import numpy as np\n",
    "def report_grade(skip, incorrect, class_results, N):\n",
    "    score = np.array(class_results[1])\n",
    "    print(f'Total student of high scores: {np.count_nonzero(score > 80)}')\n",
    "    print(f'Mean (average) score: {round(np.mean(score), 3)}')\n",
    "    print(f'Highest score: {np.max(score)}')\n",
    "    print(f'Lowest score: {np.min(score)}')\n",
    "    print(f'Range of scores: {np.max(score) - np.min(score)}')\n",
    "    print(f'Median score: {round(np.median(score), 3)}')\n",
    "\n",
    "    most_skipped = max(skip)\n",
    "    most_incorrect = max(incorrect)\n",
    "    print('Questions that most people skip:')\n",
    "    for i in range(25):\n",
    "        if skip[i] == most_skipped:\n",
    "            print(f'{i + 1} - {most_skipped} - {round(most_skipped/N, 3)}')\n",
    "    print('Questions that most people answer incorrectly:')\n",
    "    for i in range(25):\n",
    "        if incorrect[i] == most_incorrect:\n",
    "            print(f'{i + 1} - {most_incorrect} - {round(most_incorrect/N, 3)}')"
   ]
  },
  {
   "cell_type": "code",
   "execution_count": 5,
   "metadata": {},
   "outputs": [],
   "source": [
    "def write_file(file_name, class_results):\n",
    "    text = ''\n",
    "    n = len(class_results[0])\n",
    "    for i in range(n):\n",
    "        text = text + class_results[0][i] + ',' + str(class_results[1][i])\n",
    "        if i < n - 1:\n",
    "            text += '\\n'\n",
    "    graded_file_path = './Data Files/Output/' + file_name + '_grades.txt'\n",
    "    with open(graded_file_path, 'w') as f:\n",
    "        f.write(text)"
   ]
  },
  {
   "cell_type": "code",
   "execution_count": 6,
   "metadata": {},
   "outputs": [],
   "source": [
    "def process_file(file, file_name):\n",
    "    print('**** ANALYZING ****')\n",
    "    students = file.read().splitlines()\n",
    "    N = len(students)\n",
    "    valid_lines = 0\n",
    "    skip, incorrect = [0]*25, [0]*25\n",
    "    class_results = [[],[]]\n",
    "    for student in students:\n",
    "        data = student.split(',')\n",
    "        try:\n",
    "            if len(data) != 26:\n",
    "                raise ValueError('Invalid line of data: does not contain exactly 26 values\\n')\n",
    "            ID = data[0]\n",
    "            if is_valid(ID) == False:\n",
    "                raise NameError('Invalid line of data: N# is invalid\\n')\n",
    "        except ValueError as Ve:\n",
    "            print(Ve, data)\n",
    "        except NameError as Ne:\n",
    "            print(Ne, data)\n",
    "        else:\n",
    "            valid_lines += 1\n",
    "            grade_student(data, skip, incorrect, class_results)\n",
    "            \n",
    "    if valid_lines == N:\n",
    "        print('No errors found!')\n",
    "    print('**** REPORT ****')\n",
    "    print(f'Total valid lines of data: {valid_lines}')\n",
    "    print(f'Total invalid lines of data: {N - valid_lines}')\n",
    "    report_grade(skip, incorrect, class_results, N)\n",
    "    write_file(file_name, class_results)"
   ]
  },
  {
   "cell_type": "code",
   "execution_count": 7,
   "metadata": {},
   "outputs": [
    {
     "name": "stdout",
     "output_type": "stream",
     "text": [
      "Successfully opened ./Data Files/Input/class1.txt\n",
      "**** ANALYZING ****\n",
      "No errors found!\n",
      "**** REPORT ****\n",
      "Total valid lines of data: 20\n",
      "Total invalid lines of data: 0\n",
      "Total student of high scores: 6\n",
      "Mean (average) score: 75.6\n",
      "Highest score: 91\n",
      "Lowest score: 59\n",
      "Range of scores: 32\n",
      "Median score: 73.0\n",
      "Questions that most people skip:\n",
      "3 - 4 - 0.2\n",
      "5 - 4 - 0.2\n",
      "23 - 4 - 0.2\n",
      "Questions that most people answer incorrectly:\n",
      "10 - 4 - 0.2\n",
      "14 - 4 - 0.2\n",
      "16 - 4 - 0.2\n",
      "19 - 4 - 0.2\n",
      "22 - 4 - 0.2\n"
     ]
    }
   ],
   "source": [
    "def read_file():\n",
    "    while True:\n",
    "        try:\n",
    "            file_name = input('Enter a class file to grade (i.e. class1 for class1.txt):')\n",
    "            file_path = './Data Files/Input/' + file_name + '.txt'\n",
    "            with open(file_path, 'r') as f:\n",
    "                print('Successfully opened', file_path)\n",
    "                process_file(f, file_name)\n",
    "                break\n",
    "        except Exception:\n",
    "            print('File cannot be found.')\n",
    "read_file()"
   ]
  }
 ],
 "metadata": {
  "kernelspec": {
   "display_name": "aio",
   "language": "python",
   "name": "python3"
  },
  "language_info": {
   "codemirror_mode": {
    "name": "ipython",
    "version": 3
   },
   "file_extension": ".py",
   "mimetype": "text/x-python",
   "name": "python",
   "nbconvert_exporter": "python",
   "pygments_lexer": "ipython3",
   "version": "3.10.13"
  }
 },
 "nbformat": 4,
 "nbformat_minor": 2
}
